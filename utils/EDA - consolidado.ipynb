{
 "cells": [
  {
   "cell_type": "code",
   "execution_count": 19,
   "metadata": {},
   "outputs": [],
   "source": [
    "#importação das bibliotecas\n",
    "import pandas as pd\n",
    "import json\n",
    "import unicodedata\n",
    "import numpy as np"
   ]
  },
  {
   "cell_type": "code",
   "execution_count": 21,
   "metadata": {},
   "outputs": [],
   "source": [
    "#Caminho dos arquivos \n",
    "path_vagas     = 'C:/Users/giuliasilva/Desktop/Estudo/POS/TC - Modulo 05/vagas.json'\n",
    "path_prospects = 'C:/Users/giuliasilva/Desktop/Estudo/POS/TC - Modulo 05/prospects.json'\n",
    "path_apps      = 'C:/Users/giuliasilva/Desktop/Estudo/POS/TC - Modulo 05/applicants.json'\n",
    "\n",
    "#Subida dos dados para os dicionários\n",
    "with open(path_vagas,     'r', encoding='utf-8') as f: vagas_dict     = json.load(f)\n",
    "with open(path_prospects, 'r', encoding='utf-8') as f: prospects_dict = json.load(f)\n",
    "with open(path_apps,      'r', encoding='utf-8') as f: apps_dict      = json.load(f)\n",
    "\n"
   ]
  },
  {
   "cell_type": "code",
   "execution_count": null,
   "metadata": {},
   "outputs": [],
   "source": [
    "#DF de vagas existentes\n",
    "vagas_list = []\n",
    "for vaga_id, bloco in vagas_dict.items():\n",
    "    registro = {'vaga_id': vaga_id}\n",
    "    for chave in ['perfil_vaga', 'informacoes_basicas', 'beneficios']:\n",
    "        registro.update(bloco.get(chave, {}))\n",
    "    vagas_list.append(registro)\n",
    "\n",
    "df_vagas = pd.DataFrame(vagas_list)\n",
    "\n"
   ]
  },
  {
   "cell_type": "code",
   "execution_count": null,
   "metadata": {},
   "outputs": [],
   "source": [
    "#DF de profissionais, são os dados detalhados de todos eles \n",
    "apps_list = []\n",
    "\n",
    "for codigo, bloco in apps_dict.items():\n",
    "    registro = {'codigo_profissional': codigo}\n",
    "    \n",
    "    # Lista de seções esperadas no bloco do candidato\n",
    "    secoes = [\n",
    "        'infos_basicas',\n",
    "        'informacoes_pessoais',\n",
    "        'informacoes_profissionais',\n",
    "        'formacao_e_idiomas'\n",
    "    ]\n",
    "    \n",
    "    # Atualiza o registro com os dados disponíveis em cada seção\n",
    "    for secao in secoes:\n",
    "        registro.update(bloco.get(secao, {}))\n",
    "    \n",
    "    # Adiciona os campos de currículo (texto livre)\n",
    "    registro['cv_pt'] = bloco.get('cv_pt', '') or ''\n",
    "    registro['cv_en'] = bloco.get('cv_en', '') or ''\n",
    "    \n",
    "    apps_list.append(registro)\n",
    "\n",
    "# Converte a lista em DataFrame\n",
    "df_apps = pd.DataFrame(apps_list)\n"
   ]
  },
  {
   "cell_type": "code",
   "execution_count": null,
   "metadata": {},
   "outputs": [],
   "source": [
    "#DF de candidatos por vaga\n",
    "prospects_list = []\n",
    "\n",
    "for vaga_id, bloco in prospects_dict.items():\n",
    "    titulo = bloco.get('titulo')\n",
    "    modalidade = bloco.get('modalidade')\n",
    "\n",
    "    for prospect in bloco.get('prospects', []):\n",
    "        registro = prospect.copy()\n",
    "        registro.update({\n",
    "            'vaga_id': vaga_id,\n",
    "            'titulo_vaga': titulo,\n",
    "            'modalidade_vaga': modalidade\n",
    "        })\n",
    "        prospects_list.append(registro)\n",
    "\n",
    "df_prospects = pd.DataFrame(prospects_list)"
   ]
  },
  {
   "cell_type": "code",
   "execution_count": null,
   "metadata": {},
   "outputs": [],
   "source": [
    "#Função para analise dos dados \n",
    "def analise_inicial(df, nome_df=\"DataFrame\"):\n",
    "    print(f\"📊 Análise do {nome_df}\")\n",
    "    print(\"-\" * 50)\n",
    "    \n",
    "    # Garante exibição completa de colunas\n",
    "    pd.set_option('display.max_columns', None)\n",
    "    \n",
    "    # Dimensões\n",
    "    print(f\"Shape (linhas, colunas): {df.shape}\\n\")\n",
    "    \n",
    "    # Tipos de dados\n",
    "    print(\"Tipos de dados por coluna:\")\n",
    "    print(df.dtypes)\n",
    "    print(\"\\n\")\n",
    "\n",
    "    # Valores nulos\n",
    "    print(\"Valores ausentes por coluna:\")\n",
    "    display(df.isnull().sum().to_frame(\"Total Nulos\").sort_values(\"Total Nulos\", ascending=False))\n",
    "    print(\"\\n\")\n",
    "\n",
    "    # Restaura a configuração padrão após análise\n",
    "    pd.reset_option('display.max_columns')\n",
    "    \n",
    "    print(\"\\n\" + \"=\"*50 + \"\\n\")\n"
   ]
  },
  {
   "cell_type": "code",
   "execution_count": null,
   "metadata": {},
   "outputs": [],
   "source": [
    "#Consumo da função de analise de dados  inicial\n",
    "analise_inicial(df_vagas, \"df_vagas\")\n",
    "analise_inicial(df_apps, \"df_apps\")\n",
    "analise_inicial(df_prospects, \"df_prospects\")"
   ]
  },
  {
   "cell_type": "code",
   "execution_count": null,
   "metadata": {},
   "outputs": [],
   "source": [
    "#Função para analise de dados nulos em detalhes\n",
    "def resumo_missing(df, nome_df=\"DataFrame\", limite_descartar=50):\n",
    "    print(f\"Análise de valores ausentes - {nome_df}\")\n",
    "    print(\"-\" * 60)\n",
    "    \n",
    "    total = df.isnull().sum()\n",
    "    perc = (df.isnull().mean() * 100).round(2)\n",
    "    \n",
    "    resumo = pd.DataFrame({\n",
    "        'Total Nulos': total,\n",
    "        '% de Nulos': perc\n",
    "    })\n",
    "    \n",
    "    # Apenas colunas com nulos\n",
    "    resumo = resumo[resumo['Total Nulos'] > 0]\n",
    "    \n",
    "    if resumo.empty:\n",
    "        print(\"Nenhum valor nulo encontrado!\\n\")\n",
    "        return\n",
    "    \n",
    "    display(resumo.sort_values('% de Nulos', ascending=False))\n",
    "    print(\"\\n\" + \"=\"*60 + \"\\n\")\n"
   ]
  },
  {
   "cell_type": "code",
   "execution_count": null,
   "metadata": {},
   "outputs": [],
   "source": [
    "#consumo da função de analise de nulos detalhada\n",
    "resumo_missing(df_vagas, \"df_vagas\")\n",
    "resumo_missing(df_apps, \"df_apps\")\n",
    "resumo_missing(df_prospects, \"df_prospects\")\n"
   ]
  },
  {
   "cell_type": "code",
   "execution_count": null,
   "metadata": {},
   "outputs": [],
   "source": [
    "#antes das alterações acho que vale compreender o que são os dados e como substituir\n",
    "#criarei um dicionário para conhecer melhor a base "
   ]
  },
  {
   "cell_type": "code",
   "execution_count": null,
   "metadata": {},
   "outputs": [],
   "source": [
    "def gerar_dicionario_estrutural(df, nome_df=\"DataFrame\"):\n",
    "    dic = pd.DataFrame({\n",
    "        'nome_coluna': df.columns,\n",
    "        'tipo_dado': df.dtypes.astype(str),\n",
    "        'df_origem': nome_df,\n",
    "        'descricao': '',  # Preencher manualmente\n",
    "    })\n",
    "    return dic\n"
   ]
  },
  {
   "cell_type": "code",
   "execution_count": null,
   "metadata": {},
   "outputs": [],
   "source": [
    "dic_vagas = gerar_dicionario_estrutural(df_vagas, \"df_vagas\")\n",
    "dic_prospects = gerar_dicionario_estrutural(df_prospects, \"df_prospects\")\n",
    "dic_apps = gerar_dicionario_estrutural(df_apps, \"df_apps\")"
   ]
  },
  {
   "cell_type": "code",
   "execution_count": null,
   "metadata": {},
   "outputs": [],
   "source": [
    "dic_vagas.head()"
   ]
  },
  {
   "cell_type": "code",
   "execution_count": null,
   "metadata": {},
   "outputs": [],
   "source": [
    "# Cria DataFrames a partir de cada dicionário\n",
    "df_dic_vagas = pd.DataFrame(dic_vagas)\n",
    "df_dic_prospects = pd.DataFrame(dic_prospects)\n",
    "df_dic_apps = pd.DataFrame(dic_apps)\n",
    "\n",
    "# Define o caminho de destino\n",
    "caminho = \"C:/Users/giuliasilva/Desktop/Estudo/POS/TC - Modulo 05/application_web/data/\"\n",
    "\n",
    "# Exporta cada DataFrame para CSV\n",
    "df_dic_vagas.to_csv(f\"{caminho}dicionario_df_vagas.csv\", index=False, encoding='utf-8-sig')\n",
    "df_dic_prospects.to_csv(f\"{caminho}dicionario_df_prospects.csv\", index=False, encoding='utf-8-sig')\n",
    "df_dic_apps.to_csv(f\"{caminho}dicionario_df_apps.csv\", index=False, encoding='utf-8-sig')\n"
   ]
  },
  {
   "cell_type": "code",
   "execution_count": null,
   "metadata": {},
   "outputs": [],
   "source": [
    "#finalizei o dicionário e os campos que estão nulos seriam de bstante valor pra treinar o modelo, por exemplo: no df de vagas, habilidades comportamentais, no df_apps quaificações dos profissionais, experiencias....\n",
    "#bem vamos seguir com  o  preenchimento de um dado  padrão \"nan\" para o que estiver vazio"
   ]
  },
  {
   "cell_type": "code",
   "execution_count": null,
   "metadata": {},
   "outputs": [],
   "source": [
    "# Função para remover acentuação e caracteres especiais\n",
    "def remove_acentos(texto):\n",
    "    if isinstance(texto, str):\n",
    "        texto = unicodedata.normalize('NFKD', texto)\n",
    "        texto = ''.join(c for c in texto if not unicodedata.combining(c))\n",
    "        texto = ''.join(c for c in texto if c.isalnum() or c.isspace())\n",
    "        return texto\n",
    "    return texto\n",
    "\n",
    "# Função para normalizar texto\n",
    "def normaliza_texto(x):\n",
    "    if isinstance(x, str):\n",
    "        x = remove_acentos(x)\n",
    "        x = ' '.join(x.strip().lower().split())\n",
    "        return x if x else np.nan\n",
    "    return np.nan\n",
    "\n",
    "# Aplica normalização em todo DataFrame, exceto datas\n",
    "def normaliza_dataframe(df, colunas_data=[]):\n",
    "    for col in df.columns:\n",
    "        if col in colunas_data:\n",
    "            # Converte data, mantém NaT se inválida ou nula\n",
    "            df[col] = pd.to_datetime(df[col], errors='coerce', dayfirst=True)\n",
    "        else:\n",
    "            df[col] = df[col].apply(normaliza_texto)\n",
    "    return df\n"
   ]
  },
  {
   "cell_type": "code",
   "execution_count": null,
   "metadata": {},
   "outputs": [],
   "source": [
    "# Colunas de data específicas\n",
    "colunas_data_vagas = ['data_inicial', 'data_final', 'data_requicisao', 'prazo_contratacao']\n",
    "colunas_data_apps = ['data_criacao', 'data_aceite', 'data_atualizacao', 'data_nascimento']\n",
    "colunas_data_prospects = ['data_candidatura', 'ultima_atualizacao']\n",
    "\n",
    "# Normalização\n",
    "df_vagas = normaliza_dataframe(df_vagas, colunas_data_vagas)\n",
    "df_apps = normaliza_dataframe(df_apps, colunas_data_apps)\n",
    "df_prospects = normaliza_dataframe(df_prospects, colunas_data_prospects)\n"
   ]
  },
  {
   "cell_type": "code",
   "execution_count": null,
   "metadata": {},
   "outputs": [],
   "source": [
    "#validando a conversão das datas \n",
    "print(df_vagas[colunas_data_vagas].dtypes)\n",
    "print(df_apps[colunas_data_apps].dtypes)\n",
    "print(df_prospects[colunas_data_prospects].dtypes)"
   ]
  },
  {
   "cell_type": "code",
   "execution_count": null,
   "metadata": {},
   "outputs": [],
   "source": [
    "#consumo da função de analise de nulos detalhada para confirmar a mudança \n",
    "resumo_missing(df_vagas, \"df_vagas\")\n",
    "resumo_missing(df_apps, \"df_apps\")\n",
    "resumo_missing(df_prospects, \"df_prospects\")"
   ]
  },
  {
   "cell_type": "code",
   "execution_count": null,
   "metadata": {},
   "outputs": [],
   "source": [
    "# Exibe apenas as linhas com pelo menos um valor nulo no df_vagas\n",
    "df_vagas[df_vagas.isna().any(axis=1)]\n"
   ]
  },
  {
   "cell_type": "code",
   "execution_count": null,
   "metadata": {},
   "outputs": [],
   "source": [
    "# Linhas com nulos no df_apps\n",
    "df_apps[df_apps.isna().any(axis=1)]\n"
   ]
  },
  {
   "cell_type": "code",
   "execution_count": null,
   "metadata": {},
   "outputs": [],
   "source": [
    "# Linhas com nulos no df_prospects\n",
    "df_prospects[df_prospects.isna().any(axis=1)]\n"
   ]
  },
  {
   "cell_type": "code",
   "execution_count": null,
   "metadata": {},
   "outputs": [],
   "source": [
    "print(df_apps.columns.tolist())\n"
   ]
  },
  {
   "cell_type": "code",
   "execution_count": null,
   "metadata": {},
   "outputs": [],
   "source": [
    "df_apps.info()"
   ]
  }
 ],
 "metadata": {
  "kernelspec": {
   "display_name": "Python 3",
   "language": "python",
   "name": "python3"
  },
  "language_info": {
   "codemirror_mode": {
    "name": "ipython",
    "version": 3
   },
   "file_extension": ".py",
   "mimetype": "text/x-python",
   "name": "python",
   "nbconvert_exporter": "python",
   "pygments_lexer": "ipython3",
   "version": "3.11.9"
  }
 },
 "nbformat": 4,
 "nbformat_minor": 2
}
